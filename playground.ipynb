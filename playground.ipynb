{
 "cells": [
  {
   "cell_type": "code",
   "execution_count": 18,
   "metadata": {},
   "outputs": [],
   "source": [
    "from gophish import Gophish\n",
    "from gophish.models import *\n",
    "\n",
    "api_key = ## API KEY\n",
    "api = Gophish(api_key, host=\"https://127.0.0.1:3333/\", verify=False)\n",
    "\n",
    "\n",
    "# print campaign.id"
   ]
  },
  {
   "cell_type": "code",
   "execution_count": null,
   "metadata": {},
   "outputs": [
    {
     "name": "stderr",
     "output_type": "stream",
     "text": [
      "/Users/edoardo/Library/Python/3.9/lib/python/site-packages/urllib3/connectionpool.py:981: InsecureRequestWarning: Unverified HTTPS request is being made to host '127.0.0.1'. Adding certificate verification is strongly advised. See: https://urllib3.readthedocs.io/en/latest/advanced-usage.html#ssl-warnings\n",
      "  warnings.warn(\n"
     ]
    }
   ],
   "source": [
    "# TEMPLATE CREATION\n",
    "template = Template(\n",
    "    name=\"Test Template 1\",\n",
    "    html='<html><body>Click<a href=\"{{.URL}}\">here</a></body></html>',\n",
    ")\n",
    "\n",
    "template = api.templates.post(template)\n",
    "# print(template.id)"
   ]
  },
  {
   "cell_type": "code",
   "execution_count": 33,
   "metadata": {},
   "outputs": [],
   "source": [
    "targets = [\n",
    "    User(first_name=\"John\", last_name=\"Doe\", email=\"edoardolai17@gmail.com\"),\n",
    "    User(\n",
    "        first_name=\"Tumi\",\n",
    "        last_name=\"Doe\",\n",
    "        email=\"tummodz@gmail.com\",\n",
    "        status=\"test\",\n",
    "    ),\n",
    "]"
   ]
  },
  {
   "cell_type": "code",
   "execution_count": 34,
   "metadata": {},
   "outputs": [
    {
     "name": "stderr",
     "output_type": "stream",
     "text": [
      "/Users/edoardo/Library/Python/3.9/lib/python/site-packages/urllib3/connectionpool.py:981: InsecureRequestWarning: Unverified HTTPS request is being made to host '127.0.0.1'. Adding certificate verification is strongly advised. See: https://urllib3.readthedocs.io/en/latest/advanced-usage.html#ssl-warnings\n",
      "  warnings.warn(\n"
     ]
    }
   ],
   "source": [
    "group = Group(name=\"Test Company\", targets=targets)\n",
    "group = api.groups.post(group)\n",
    "# print group.id"
   ]
  },
  {
   "cell_type": "code",
   "execution_count": 22,
   "metadata": {},
   "outputs": [
    {
     "name": "stderr",
     "output_type": "stream",
     "text": [
      "/Users/edoardo/Library/Python/3.9/lib/python/site-packages/urllib3/connectionpool.py:981: InsecureRequestWarning: Unverified HTTPS request is being made to host '127.0.0.1'. Adding certificate verification is strongly advised. See: https://urllib3.readthedocs.io/en/latest/advanced-usage.html#ssl-warnings\n",
      "  warnings.warn(\n"
     ]
    }
   ],
   "source": [
    "page = Page(\n",
    "    name=\"Test Page\", html=\"<html><body>Click <a href='{{.URL}}'>here</a></body></html>\"\n",
    ")\n",
    "\n",
    "page = api.pages.post(page)"
   ]
  },
  {
   "cell_type": "code",
   "execution_count": null,
   "metadata": {},
   "outputs": [
    {
     "name": "stderr",
     "output_type": "stream",
     "text": [
      "/Users/edoardo/Library/Python/3.9/lib/python/site-packages/urllib3/connectionpool.py:981: InsecureRequestWarning: Unverified HTTPS request is being made to host '127.0.0.1'. Adding certificate verification is strongly advised. See: https://urllib3.readthedocs.io/en/latest/advanced-usage.html#ssl-warnings\n",
      "  warnings.warn(\n"
     ]
    }
   ],
   "source": [
    "# smtp = SMTP(name=\"Test GMAIl SMTP\")\n",
    "# smtp.host = \"smtp.gmail.com:465\"\n",
    "# smtp.from_address = \"edoardolai96@gmail.com\"\n",
    "# smtp.interface_type = \"SMTP\"\n",
    "# smtp.ignore_cert_errors = True\n",
    "# smtp.username = \"edoardolai96@gmail.com\"\n",
    "# smtp.password = \"\"\n",
    "\n",
    "# smtp = api.smtp.post(smtp)"
   ]
  },
  {
   "cell_type": "code",
   "execution_count": 29,
   "metadata": {},
   "outputs": [],
   "source": [
    "groups = [Group(name=\"Test Company\")]\n",
    "page = Page(name=\"Test Page\")\n",
    "template = Template(name=\"Test Template 1\")\n",
    "smtp = SMTP(name=\"Test GMAIl SMTP\")\n",
    "url = \"http://test.com\"\n",
    "campaign = Campaign(\n",
    "    name=\"Example Campaign\",\n",
    "    groups=groups,\n",
    "    page=page,\n",
    "    template=template,\n",
    "    smtp=smtp,\n",
    "    url=url,\n",
    ")"
   ]
  },
  {
   "cell_type": "code",
   "execution_count": 37,
   "metadata": {},
   "outputs": [
    {
     "name": "stderr",
     "output_type": "stream",
     "text": [
      "/Users/edoardo/Library/Python/3.9/lib/python/site-packages/urllib3/connectionpool.py:981: InsecureRequestWarning: Unverified HTTPS request is being made to host '127.0.0.1'. Adding certificate verification is strongly advised. See: https://urllib3.readthedocs.io/en/latest/advanced-usage.html#ssl-warnings\n",
      "  warnings.warn(\n"
     ]
    }
   ],
   "source": [
    "campaign = api.campaigns.post(campaign)"
   ]
  }
 ],
 "metadata": {
  "kernelspec": {
   "display_name": "Python 3",
   "language": "python",
   "name": "python3"
  },
  "language_info": {
   "codemirror_mode": {
    "name": "ipython",
    "version": 3
   },
   "file_extension": ".py",
   "mimetype": "text/x-python",
   "name": "python",
   "nbconvert_exporter": "python",
   "pygments_lexer": "ipython3",
   "version": "3.9.6"
  }
 },
 "nbformat": 4,
 "nbformat_minor": 2
}
